{
 "cells": [
  {
   "cell_type": "code",
   "execution_count": 19,
   "id": "859a4a82-7066-4e60-a959-4eab75f22803",
   "metadata": {},
   "outputs": [],
   "source": [
    "import tensorflow as tf\n",
    "import cv2\n",
    "import numpy as np\n",
    "from tensorflow import keras\n",
    "\n",
    "loaded_model = keras.models.load_model('Agricultural-crops.keras')\n",
    "\n",
    "class_names = {\n",
    "    0: 'Cherry',\n",
    "    1: 'Coffee-plant',\n",
    "    2: 'Cucumber',\n",
    "    3: 'Fox_nut(Makhana)',\n",
    "    4: 'Lemon',\n",
    "    5: 'Olive-tree',\n",
    "    6: 'Pearl_millet(bajra)',\n",
    "    7: 'Tobacco-plant',\n",
    "    8: 'almond',\n",
    "    9: 'banana',\n",
    "    10: 'cardamom',\n",
    "    11: 'chilli',\n",
    "    12: 'clove',\n",
    "    13: 'coconut',\n",
    "    14: 'cotton',\n",
    "    15: 'gram',\n",
    "    16: 'jowar',\n",
    "    17: 'jute',\n",
    "    18: 'maize',\n",
    "    19: 'mustard-oil',\n",
    "    20: 'papaya',\n",
    "    21: 'pineapple',\n",
    "    22: 'rice',\n",
    "    23: 'soyabean',\n",
    "    24: 'sugarcane',\n",
    "    25: 'sunflower',\n",
    "    26: 'tea',\n",
    "    27: 'tomato',\n",
    "    28: 'vigna-radiati(Mung)',\n",
    "    29: 'wheat'\n",
    "}\n",
    "\n",
    "def predict_img(image, model):\n",
    "    test_img=cv2.imread(image)                # read the image from the specified file path as an array\n",
    "    test_img=cv2.resize(test_img, (224,224))  # resize to 224 by 224px to match the size the model was trained on\n",
    "    test_img=np.expand_dims(test_img, axis=0) # numpy function to add extra dimensions to the image array\n",
    "    result=model.predict(test_img)            # use trained model to make prediction\n",
    "    r=np.argmax(result)                       # returns the index of the maxium value in the result array, \n",
    "                                              # this should correspond to the class with the highest probability\n",
    "    print(class_names[r])"
   ]
  },
  {
   "cell_type": "code",
   "execution_count": 26,
   "id": "4b48a881-9090-4e26-84c9-2f3fe6850d0c",
   "metadata": {},
   "outputs": [
    {
     "name": "stdout",
     "output_type": "stream",
     "text": [
      "\u001b[1m1/1\u001b[0m \u001b[32m━━━━━━━━━━━━━━━━━━━━\u001b[0m\u001b[37m\u001b[0m \u001b[1m0s\u001b[0m 121ms/step\n",
      "Coffee-plant\n"
     ]
    }
   ],
   "source": [
    "predict_img(\n",
    "    '/Users/Gordon Freeman/ml-notebooks/Agricultural-crops/Coffee-plant/images62.jpg',\n",
    "    loaded_model\n",
    ")"
   ]
  },
  {
   "cell_type": "code",
   "execution_count": null,
   "id": "cb2d1601-34b0-4891-83c7-b9827736c0d0",
   "metadata": {},
   "outputs": [],
   "source": []
  },
  {
   "cell_type": "code",
   "execution_count": null,
   "id": "a6b7b986-19cd-4acd-886a-1ad62ac0e476",
   "metadata": {},
   "outputs": [],
   "source": []
  }
 ],
 "metadata": {
  "kernelspec": {
   "display_name": "Python 3 (ipykernel)",
   "language": "python",
   "name": "python3"
  },
  "language_info": {
   "codemirror_mode": {
    "name": "ipython",
    "version": 3
   },
   "file_extension": ".py",
   "mimetype": "text/x-python",
   "name": "python",
   "nbconvert_exporter": "python",
   "pygments_lexer": "ipython3",
   "version": "3.10.4"
  }
 },
 "nbformat": 4,
 "nbformat_minor": 5
}
