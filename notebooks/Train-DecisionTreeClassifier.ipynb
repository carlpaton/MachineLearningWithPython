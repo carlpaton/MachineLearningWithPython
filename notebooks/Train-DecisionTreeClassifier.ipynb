{
 "cells": [
  {
   "cell_type": "code",
   "execution_count": 10,
   "id": "f0d87676-e9d0-4ed8-9ae7-12e5c580e300",
   "metadata": {},
   "outputs": [
    {
     "name": "stderr",
     "output_type": "stream",
     "text": [
      "C:\\Python310\\lib\\site-packages\\sklearn\\utils\\validation.py:2732: UserWarning: X has feature names, but DecisionTreeClassifier was fitted without feature names\n",
      "  warnings.warn(\n"
     ]
    },
    {
     "data": {
      "text/plain": [
       "1.0"
      ]
     },
     "execution_count": 10,
     "metadata": {},
     "output_type": "execute_result"
    }
   ],
   "source": [
    "import pandas as pd\n",
    "from sklearn.tree import DecisionTreeClassifier\n",
    "from sklearn.model_selection import train_test_split\n",
    "from sklearn.metrics import accuracy_score\n",
    "import joblib\n",
    "\n",
    "music_data = pd.read_csv('music.csv')\n",
    "X = music_data.drop(columns=['genre']) \n",
    "y = music_data['genre']\n",
    "\n",
    "# X_train, X_test are input sets for training and testing\n",
    "# y_train, y_test are output sets for training and testing, y_test are the expected values\n",
    "X_train, X_test, y_train, y_test = train_test_split(X, y, test_size=0.2) # 20% of data to test\n",
    "\n",
    "# create and train a model\n",
    "model = DecisionTreeClassifier()\n",
    "model.fit(X_train.values, y_train)\n",
    "\n",
    "predictions = model.predict(X_test)\n",
    "score = accuracy_score(y_test, predictions)\n",
    "score"
   ]
  },
  {
   "cell_type": "code",
   "execution_count": 11,
   "id": "38adf4f5-7636-4885-aca3-6b41ba7a8889",
   "metadata": {},
   "outputs": [
    {
     "data": {
      "text/plain": [
       "['music.joblib']"
      ]
     },
     "execution_count": 11,
     "metadata": {},
     "output_type": "execute_result"
    }
   ],
   "source": [
    "joblib.dump(model, 'music.joblib')"
   ]
  },
  {
   "cell_type": "code",
   "execution_count": null,
   "id": "efd4a2e6-d4a9-4fae-8916-dfb2c46a0ed7",
   "metadata": {},
   "outputs": [],
   "source": []
  }
 ],
 "metadata": {
  "kernelspec": {
   "display_name": "Python 3 (ipykernel)",
   "language": "python",
   "name": "python3"
  },
  "language_info": {
   "codemirror_mode": {
    "name": "ipython",
    "version": 3
   },
   "file_extension": ".py",
   "mimetype": "text/x-python",
   "name": "python",
   "nbconvert_exporter": "python",
   "pygments_lexer": "ipython3",
   "version": "3.10.4"
  }
 },
 "nbformat": 4,
 "nbformat_minor": 5
}
