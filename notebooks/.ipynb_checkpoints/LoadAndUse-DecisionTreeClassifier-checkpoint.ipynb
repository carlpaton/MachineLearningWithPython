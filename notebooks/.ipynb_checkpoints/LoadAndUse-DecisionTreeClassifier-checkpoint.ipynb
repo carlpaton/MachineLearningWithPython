{
 "cells": [
  {
   "cell_type": "code",
   "execution_count": 3,
   "id": "2bf4ef59-fb29-4673-87ed-ba7ac7f0419a",
   "metadata": {},
   "outputs": [
    {
     "data": {
      "text/plain": [
       "array(['HipHop'], dtype=object)"
      ]
     },
     "execution_count": 3,
     "metadata": {},
     "output_type": "execute_result"
    }
   ],
   "source": [
    "import joblib\n",
    "\n",
    "model = joblib.load('music.joblib')\n",
    "\n",
    "# [21,1] is 21 year old male\n",
    "predictions = model.predict([[21,1]])\n",
    "predictions"
   ]
  },
  {
   "cell_type": "code",
   "execution_count": null,
   "id": "a650f1c0-37f4-46d6-9ccc-bbff9e46f71a",
   "metadata": {},
   "outputs": [],
   "source": []
  },
  {
   "cell_type": "code",
   "execution_count": null,
   "id": "31435bfa-35a4-4aba-b4f9-43a2d7bb93b9",
   "metadata": {},
   "outputs": [],
   "source": []
  }
 ],
 "metadata": {
  "kernelspec": {
   "display_name": "Python 3 (ipykernel)",
   "language": "python",
   "name": "python3"
  },
  "language_info": {
   "codemirror_mode": {
    "name": "ipython",
    "version": 3
   },
   "file_extension": ".py",
   "mimetype": "text/x-python",
   "name": "python",
   "nbconvert_exporter": "python",
   "pygments_lexer": "ipython3",
   "version": "3.10.4"
  }
 },
 "nbformat": 4,
 "nbformat_minor": 5
}
